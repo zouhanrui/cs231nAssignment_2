version https://git-lfs.github.com/spec/v1
oid sha256:6ccfcd4c7f0bae63a129d7e66a929b3379ecd15f81a79d18286f8cc8426a4a1b
size 85042
