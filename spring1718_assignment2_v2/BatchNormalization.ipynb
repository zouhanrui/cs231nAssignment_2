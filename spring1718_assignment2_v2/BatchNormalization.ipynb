version https://git-lfs.github.com/spec/v1
oid sha256:e14450f38cc2de2c052d4afadd907592093f82a8742211415052df654976dd14
size 429832
